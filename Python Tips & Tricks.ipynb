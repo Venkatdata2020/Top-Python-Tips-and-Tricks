{
 "cells": [
  {
   "cell_type": "code",
   "execution_count": 2,
   "metadata": {},
   "outputs": [
    {
     "name": "stdout",
     "output_type": "stream",
     "text": [
      "['India', 'India', 'India', 'India', 'India', 'India', 'India', 'India', 'India', 'India']\n"
     ]
    }
   ],
   "source": [
    "a = ['India']*10\n",
    "print(a)"
   ]
  },
  {
   "cell_type": "code",
   "execution_count": 3,
   "metadata": {},
   "outputs": [
    {
     "name": "stdout",
     "output_type": "stream",
     "text": [
      "['India', 'France', 'India', 'France', 'India', 'France', 'India', 'France', 'India', 'France', 'India', 'France', 'India', 'France', 'India', 'France', 'India', 'France', 'India', 'France']\n"
     ]
    }
   ],
   "source": [
    "a = ['India','France']*10\n",
    "print(a)"
   ]
  },
  {
   "cell_type": "code",
   "execution_count": 4,
   "metadata": {},
   "outputs": [
    {
     "name": "stdout",
     "output_type": "stream",
     "text": [
      "2020202020\n"
     ]
    }
   ],
   "source": [
    "b= '20'*5\n",
    "print(b)"
   ]
  },
  {
   "cell_type": "code",
   "execution_count": 5,
   "metadata": {},
   "outputs": [
    {
     "name": "stdout",
     "output_type": "stream",
     "text": [
      "100\n"
     ]
    }
   ],
   "source": [
    "c=20*5\n",
    "print(c)"
   ]
  },
  {
   "cell_type": "markdown",
   "metadata": {},
   "source": [
    "# Reverse a String"
   ]
  },
  {
   "cell_type": "code",
   "execution_count": 6,
   "metadata": {},
   "outputs": [
    {
     "name": "stdout",
     "output_type": "stream",
     "text": [
      "['Spain', 'Germany', 'France', 'USA', 'India']\n"
     ]
    }
   ],
   "source": [
    "list1 = ['India','USA','France','Germany','Spain']\n",
    "print(list1[::-1])"
   ]
  },
  {
   "cell_type": "markdown",
   "metadata": {},
   "source": [
    "# Reverse a list of numbers"
   ]
  },
  {
   "cell_type": "code",
   "execution_count": 7,
   "metadata": {},
   "outputs": [
    {
     "name": "stdout",
     "output_type": "stream",
     "text": [
      "[400, 300, 200, 100]\n"
     ]
    }
   ],
   "source": [
    "list2 = [100,200,300,400]\n",
    "print(list2[::-1])"
   ]
  },
  {
   "cell_type": "code",
   "execution_count": 8,
   "metadata": {},
   "outputs": [
    {
     "name": "stdout",
     "output_type": "stream",
     "text": [
      "[1, 2, 3, 4]\n",
      "2 1 4 3\n"
     ]
    }
   ],
   "source": [
    "List = [1,2,3,4]\n",
    "print(List)\n",
    "a,b,c,d = List\n",
    "print(b,a,d,c)"
   ]
  },
  {
   "cell_type": "code",
   "execution_count": 10,
   "metadata": {},
   "outputs": [
    {
     "name": "stdout",
     "output_type": "stream",
     "text": [
      "['S', 'i', 'm', 'p', 'l', 'i', 'l', 'e', 'a', 'r', 'n']\n"
     ]
    }
   ],
   "source": [
    "letters = []\n",
    "for i in 'Simplilearn':\n",
    "    letters.append(i)\n",
    "print(letters)"
   ]
  },
  {
   "cell_type": "code",
   "execution_count": 11,
   "metadata": {},
   "outputs": [
    {
     "name": "stdout",
     "output_type": "stream",
     "text": [
      "['S', 'i', 'm', 'p', 'l', 'i', 'l', 'e', 'a', 'r', 'n']\n"
     ]
    }
   ],
   "source": [
    "letters = [i for i in 'Simplilearn']\n",
    "print(letters)"
   ]
  },
  {
   "cell_type": "code",
   "execution_count": 12,
   "metadata": {},
   "outputs": [],
   "source": [
    "import math\n",
    "def square(a):\n",
    "    a = math.pow(a,2)\n",
    "    return a"
   ]
  },
  {
   "cell_type": "code",
   "execution_count": 13,
   "metadata": {},
   "outputs": [
    {
     "data": {
      "text/plain": [
       "9.0"
      ]
     },
     "execution_count": 13,
     "metadata": {},
     "output_type": "execute_result"
    }
   ],
   "source": [
    "square(3)"
   ]
  },
  {
   "cell_type": "code",
   "execution_count": 14,
   "metadata": {},
   "outputs": [
    {
     "data": {
      "text/plain": [
       "[0, 1, 4, 9, 16, 25, 36, 49, 64, 81]"
      ]
     },
     "execution_count": 14,
     "metadata": {},
     "output_type": "execute_result"
    }
   ],
   "source": [
    "squares = []\n",
    "for i in range(10):\n",
    "    squares.append(i*i)\n",
    "squares"
   ]
  },
  {
   "cell_type": "code",
   "execution_count": 15,
   "metadata": {},
   "outputs": [
    {
     "data": {
      "text/plain": [
       "[0, 16, 64, 144, 256]"
      ]
     },
     "execution_count": 15,
     "metadata": {},
     "output_type": "execute_result"
    }
   ],
   "source": [
    "squares = [x**2 for x in range(0,20,4)]\n",
    "squares"
   ]
  },
  {
   "cell_type": "code",
   "execution_count": 16,
   "metadata": {},
   "outputs": [
    {
     "name": "stdout",
     "output_type": "stream",
     "text": [
      "Using the enumerate function\n",
      "Index[ 0 ] value 300\n",
      "Index[ 1 ] value 294\n",
      "Index[ 2 ] value 450\n",
      "Index[ 3 ] value 243\n"
     ]
    }
   ],
   "source": [
    "list_items = [300,294,450,243]\n",
    "print('Using the enumerate function')\n",
    "for index,element in enumerate(list_items):\n",
    "    print('Index[', index,']', 'value', element)"
   ]
  },
  {
   "cell_type": "code",
   "execution_count": 17,
   "metadata": {},
   "outputs": [
    {
     "name": "stdout",
     "output_type": "stream",
     "text": [
      "{102: 'Phone', 410: 'Laptop', 321: 'Tablet'}\n"
     ]
    }
   ],
   "source": [
    "items = [102,410,321]\n",
    "names = ['Phone','Laptop','Tablet']\n",
    "itemDictionary = dict(zip(items,names))\n",
    "print(itemDictionary)"
   ]
  },
  {
   "cell_type": "code",
   "execution_count": 18,
   "metadata": {},
   "outputs": [
    {
     "data": {
      "text/plain": [
       "dict_keys([102, 410, 321])"
      ]
     },
     "execution_count": 18,
     "metadata": {},
     "output_type": "execute_result"
    }
   ],
   "source": [
    "itemDictionary.keys()"
   ]
  },
  {
   "cell_type": "code",
   "execution_count": 19,
   "metadata": {},
   "outputs": [
    {
     "data": {
      "text/plain": [
       "dict_values(['Phone', 'Laptop', 'Tablet'])"
      ]
     },
     "execution_count": 19,
     "metadata": {},
     "output_type": "execute_result"
    }
   ],
   "source": [
    "itemDictionary.values()"
   ]
  },
  {
   "cell_type": "code",
   "execution_count": 25,
   "metadata": {},
   "outputs": [
    {
     "name": "stdout",
     "output_type": "stream",
     "text": [
      "['Davis', 'Karin', 'steve']\n"
     ]
    }
   ],
   "source": [
    "list_a  = ['Davis','Karin','john','Frank','steve']\n",
    "list_b = ['Karin','Davis','Jack','George','steve']\n",
    "common = [a for a in list_a for b in list_b if a == b]\n",
    "print(common)"
   ]
  },
  {
   "cell_type": "code",
   "execution_count": 26,
   "metadata": {},
   "outputs": [
    {
     "name": "stdout",
     "output_type": "stream",
     "text": [
      "Original List =  [20, 22, 24, 26, 28, 28, 20, 22, 30]\n",
      "List after removing duplicates =  [20, 22, 24, 26, 28, 30]\n"
     ]
    }
   ],
   "source": [
    "listNumbers = [20,22,24,26,28,28,20,22,30]\n",
    "print('Original List = ' , listNumbers)\n",
    "listNumbers = list(set(listNumbers))\n",
    "print('List after removing duplicates = ', listNumbers)"
   ]
  },
  {
   "cell_type": "code",
   "execution_count": 27,
   "metadata": {},
   "outputs": [
    {
     "name": "stdout",
     "output_type": "stream",
     "text": [
      "{1: 'Davis', 2: 'Andrew', 3: 'Karin', 4: 'John', 5: 'Angela', 6: 'Suzan'}\n"
     ]
    }
   ],
   "source": [
    "TeamA = {1:'Davis', 2:'Andrew',3:'Karin'} \n",
    "TeamB = {4:'John',5:'Angela',6:'Suzan'}\n",
    "def merge_teams(dictOne, dictTwo):\n",
    "    dictThree = dictOne.copy()\n",
    "    dictThree.update(dictTwo)\n",
    "    return dictThree\n",
    "print(merge_teams(TeamA,TeamB))"
   ]
  },
  {
   "cell_type": "code",
   "execution_count": 28,
   "metadata": {},
   "outputs": [
    {
     "data": {
      "text/plain": [
       "{'a': 1, 'b': 2, 'c': 1}"
      ]
     },
     "execution_count": 28,
     "metadata": {},
     "output_type": "execute_result"
    }
   ],
   "source": [
    "a = {'a':1,'b':1}\n",
    "b = {'b':2,'c':1}\n",
    "a.update(b)\n",
    "a"
   ]
  },
  {
   "cell_type": "code",
   "execution_count": 29,
   "metadata": {},
   "outputs": [
    {
     "name": "stdout",
     "output_type": "stream",
     "text": [
      "{1: 'Davis', 2: 'Andrew', 3: 'Karin', 4: 'John', 5: 'Angela', 6: 'Suzan'}\n"
     ]
    }
   ],
   "source": [
    "TeamA = {1:'Davis', 2:'Andrew',3:'Karin'} \n",
    "TeamB = {4:'John',5:'Angela',6:'Suzan'}\n",
    "FinalTeam = {**TeamA,**TeamB}\n",
    "print(FinalTeam)"
   ]
  },
  {
   "cell_type": "code",
   "execution_count": 30,
   "metadata": {},
   "outputs": [
    {
     "data": {
      "text/plain": [
       "{0: 0, 1: 1, 2: 4, 3: 9, 4: 16}"
      ]
     },
     "execution_count": 30,
     "metadata": {},
     "output_type": "execute_result"
    }
   ],
   "source": [
    "square ={x: x**2 for x in range(5)}\n",
    "square"
   ]
  },
  {
   "cell_type": "code",
   "execution_count": 31,
   "metadata": {},
   "outputs": [
    {
     "data": {
      "text/plain": [
       "True"
      ]
     },
     "execution_count": 31,
     "metadata": {},
     "output_type": "execute_result"
    }
   ],
   "source": [
    "all(a%2 == 0 for a in range(0,10,2))"
   ]
  },
  {
   "cell_type": "code",
   "execution_count": 32,
   "metadata": {},
   "outputs": [
    {
     "data": {
      "text/plain": [
       "False"
      ]
     },
     "execution_count": 32,
     "metadata": {},
     "output_type": "execute_result"
    }
   ],
   "source": [
    "all(a%2 == 0 for a in range(0,10,3))"
   ]
  },
  {
   "cell_type": "code",
   "execution_count": 34,
   "metadata": {},
   "outputs": [
    {
     "name": "stdout",
     "output_type": "stream",
     "text": [
      "Before swap 10 20\n",
      "After swap x =  20 y= 10\n"
     ]
    }
   ],
   "source": [
    "x,y = 10,20\n",
    "print('Before swap',x,y)\n",
    "x,y=y,x\n",
    "print('After swap x = ',x,'y=', y)"
   ]
  },
  {
   "cell_type": "code",
   "execution_count": 35,
   "metadata": {},
   "outputs": [
    {
     "name": "stdout",
     "output_type": "stream",
     "text": [
      "python\n"
     ]
    }
   ],
   "source": [
    "character = ['p','y','t','h','o','n']\n",
    "word = ''.join(character)\n",
    "print(word)"
   ]
  },
  {
   "cell_type": "code",
   "execution_count": 36,
   "metadata": {},
   "outputs": [
    {
     "name": "stdout",
     "output_type": "stream",
     "text": [
      "4\n"
     ]
    }
   ],
   "source": [
    "test = [1,2,3,4,2,2,3,1,4,4,4]\n",
    "print(max(set(test),key=test.count))"
   ]
  },
  {
   "cell_type": "code",
   "execution_count": 37,
   "metadata": {},
   "outputs": [
    {
     "name": "stdout",
     "output_type": "stream",
     "text": [
      " b is greater than a\n"
     ]
    }
   ],
   "source": [
    "a,b = 10,20\n",
    "print('Both a and b are equal' if a == b else 'a is greater than b' if a>b else ' b is greater than a' )"
   ]
  },
  {
   "cell_type": "code",
   "execution_count": 38,
   "metadata": {},
   "outputs": [],
   "source": [
    "import numpy as np"
   ]
  },
  {
   "cell_type": "code",
   "execution_count": 39,
   "metadata": {},
   "outputs": [
    {
     "data": {
      "text/plain": [
       "[0, 1, 3, 6, 10, 15, 21, 28, 36, 45]"
      ]
     },
     "execution_count": 39,
     "metadata": {},
     "output_type": "execute_result"
    }
   ],
   "source": [
    "res = list(np.cumsum(range(10)))\n",
    "res"
   ]
  },
  {
   "cell_type": "code",
   "execution_count": 42,
   "metadata": {},
   "outputs": [
    {
     "data": {
      "text/plain": [
       "[('Mancester united', 'Real Madrid'),\n",
       " ('Mancester united', 'Arsenal'),\n",
       " ('Mancester united', 'Chelsea'),\n",
       " ('Mancester united', 'Liverpool'),\n",
       " ('Mancester united', 'Barcelona'),\n",
       " ('Real Madrid', 'Arsenal'),\n",
       " ('Real Madrid', 'Chelsea'),\n",
       " ('Real Madrid', 'Liverpool'),\n",
       " ('Real Madrid', 'Barcelona'),\n",
       " ('Arsenal', 'Chelsea'),\n",
       " ('Arsenal', 'Liverpool'),\n",
       " ('Arsenal', 'Barcelona'),\n",
       " ('Chelsea', 'Liverpool'),\n",
       " ('Chelsea', 'Barcelona'),\n",
       " ('Liverpool', 'Barcelona')]"
      ]
     },
     "execution_count": 42,
     "metadata": {},
     "output_type": "execute_result"
    }
   ],
   "source": [
    "import itertools\n",
    "Football_clubs = ['Mancester united','Real Madrid','Arsenal','Chelsea','Liverpool','Barcelona']\n",
    "list(itertools.combinations(Football_clubs,r=2))"
   ]
  },
  {
   "cell_type": "code",
   "execution_count": 43,
   "metadata": {},
   "outputs": [
    {
     "name": "stdout",
     "output_type": "stream",
     "text": [
      "1234\n",
      "1243\n",
      "1324\n",
      "1342\n",
      "1423\n",
      "1432\n",
      "2134\n",
      "2143\n",
      "2314\n",
      "2341\n",
      "2413\n",
      "2431\n",
      "3124\n",
      "3142\n",
      "3214\n",
      "3241\n",
      "3412\n",
      "3421\n",
      "4123\n",
      "4132\n",
      "4213\n",
      "4231\n",
      "4312\n",
      "4321\n"
     ]
    }
   ],
   "source": [
    "for p in itertools.permutations([1,2,3,4]):\n",
    "    print(''.join(str(x) for x in p))"
   ]
  },
  {
   "cell_type": "code",
   "execution_count": 44,
   "metadata": {},
   "outputs": [
    {
     "data": {
      "text/plain": [
       "[None, False, 0]"
      ]
     },
     "execution_count": 44,
     "metadata": {},
     "output_type": "execute_result"
    }
   ],
   "source": [
    "list(itertools.filterfalse(bool,[None,False,1,0,10]))"
   ]
  },
  {
   "cell_type": "code",
   "execution_count": 45,
   "metadata": {},
   "outputs": [
    {
     "data": {
      "text/plain": [
       "[7, 14, 63]"
      ]
     },
     "execution_count": 45,
     "metadata": {},
     "output_type": "execute_result"
    }
   ],
   "source": [
    "import itertools\n",
    "import operator\n",
    "a = [(2,5),(10,4),(60,3)]\n",
    "list(itertools.starmap(operator.add,a))"
   ]
  },
  {
   "cell_type": "code",
   "execution_count": 46,
   "metadata": {},
   "outputs": [
    {
     "data": {
      "text/plain": [
       "[10, 40, 180]"
      ]
     },
     "execution_count": 46,
     "metadata": {},
     "output_type": "execute_result"
    }
   ],
   "source": [
    "import itertools\n",
    "import operator\n",
    "a = [(2,5),(10,4),(60,3)]\n",
    "list(itertools.starmap(operator.mul,a))"
   ]
  },
  {
   "cell_type": "code",
   "execution_count": 47,
   "metadata": {},
   "outputs": [
    {
     "data": {
      "text/plain": [
       "'acdeb'"
      ]
     },
     "execution_count": 47,
     "metadata": {},
     "output_type": "execute_result"
    }
   ],
   "source": [
    "from collections import OrderedDict\n",
    "d = OrderedDict.fromkeys('abcde')\n",
    "d.move_to_end('b')\n",
    "''.join(d.keys())"
   ]
  },
  {
   "cell_type": "code",
   "execution_count": 49,
   "metadata": {},
   "outputs": [
    {
     "data": {
      "text/plain": [
       "'bacde'"
      ]
     },
     "execution_count": 49,
     "metadata": {},
     "output_type": "execute_result"
    }
   ],
   "source": [
    "d.move_to_end('b',last=False)\n",
    "''.join(d.keys())"
   ]
  },
  {
   "cell_type": "code",
   "execution_count": 51,
   "metadata": {},
   "outputs": [],
   "source": [
    "func = {'sum': lambda x,y: x+y, 'subtract': lambda x,y: x-y}"
   ]
  },
  {
   "cell_type": "code",
   "execution_count": 52,
   "metadata": {},
   "outputs": [
    {
     "data": {
      "text/plain": [
       "13"
      ]
     },
     "execution_count": 52,
     "metadata": {},
     "output_type": "execute_result"
    }
   ],
   "source": [
    "func['sum'](10,3)"
   ]
  },
  {
   "cell_type": "code",
   "execution_count": 53,
   "metadata": {},
   "outputs": [
    {
     "data": {
      "text/plain": [
       "7"
      ]
     },
     "execution_count": 53,
     "metadata": {},
     "output_type": "execute_result"
    }
   ],
   "source": [
    "func['subtract'](10,3)"
   ]
  },
  {
   "cell_type": "code",
   "execution_count": null,
   "metadata": {},
   "outputs": [],
   "source": []
  }
 ],
 "metadata": {
  "kernelspec": {
   "display_name": "Python 3",
   "language": "python",
   "name": "python3"
  },
  "language_info": {
   "codemirror_mode": {
    "name": "ipython",
    "version": 3
   },
   "file_extension": ".py",
   "mimetype": "text/x-python",
   "name": "python",
   "nbconvert_exporter": "python",
   "pygments_lexer": "ipython3",
   "version": "3.6.5"
  }
 },
 "nbformat": 4,
 "nbformat_minor": 2
}
